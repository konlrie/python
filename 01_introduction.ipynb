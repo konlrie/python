{
 "cells": [
  {
   "cell_type": "markdown",
   "metadata": {},
   "source": [
    "# 큰단락\n",
    "## 중간단락\n",
    "### 작은단락\n",
    "#### 더작은단락\n",
    "##### 젤작은단락\n",
    "--------------\n",
    "- 이리애 바보\n",
    "- 오수열 천재\n",
    "- 옆에 언니 이뻐요\n",
    "-------------\n",
    "\n",
    "Samples (ctrl+c, ctrl+v)\n",
    "|  <center>Header1</center> |  <center>Header2</center> |  <center>Header3</center> |\n",
    "|:--------|:--------:|--------:|\n",
    "|**cell 1x1** | <center>cell 1x2 </center> |*cell 1x3* |\n",
    "|**cell 2x1** | <center>cell 2x2 </center> |*cell 2x3* |\n",
    "|**cell 3x1** | <center>cell 3x2 </center> |*cell 3x3* |"
   ]
  },
  {
   "cell_type": "code",
   "execution_count": null,
   "metadata": {},
   "outputs": [],
   "source": [
    "# 한 줄 주석이에요. R의 주석과 같아요!\n",
    "# 여러 줄 주석은 \"\"\" \"\"\" 혹은 ''' '''로 표현돼요!\n",
    "\"\"\"\n",
    "python의 장점\n",
    "- 상대적으로 쉬운 언어\n",
    "- 강력한 데이터 분석 library(현재 가장 인기가 좋아요!)\n",
    "- Open Source\n",
    "- R에 비해서 범용적인 사용이 가능\n",
    "- 데이터 분석 결과를 다른 시스템과 연동시킬 때 좋아요!\n",
    "- 하위 호환성은 없어요( 2.x버전과 3.x버전이 달라요! )\n",
    "- PyCharm 혹은 jupyter notebook으로 작업해요!\n",
    "- 여기는 editor. 밖에 박스를 cell이라고 함\n",
    "- 박스 생성... below의 약자 b를 누르면 밑에 생성 above의 약자 a를 누르면 위에 생성 \n",
    "- 박스 삭제... dd\n",
    "\"\"\""
   ]
  },
  {
   "cell_type": "code",
   "execution_count": 3,
   "metadata": {},
   "outputs": [
    {
     "name": "stdout",
     "output_type": "stream",
     "text": [
      "['False', 'None', 'True', 'and', 'as', 'assert', 'break', 'class', 'continue', 'def', 'del', 'elif', 'else', 'except', 'finally', 'for', 'from', 'global', 'if', 'import', 'in', 'is', 'lambda', 'nonlocal', 'not', 'or', 'pass', 'raise', 'return', 'try', 'while', 'with', 'yield']\n"
     ]
    }
   ],
   "source": [
    "# python의 keyword\n",
    "\n",
    "# keyword module을 로딩해야 해요!\n",
    "import keyword\n",
    "\n",
    "# output 영역에 출력할 때 사용하는 함수 : print()\n",
    "print(keyword.kwlist)\n",
    "\n",
    "# ctrl+enter, shift+enter, alt+enter\n",
    "# O(output)를 누르면 보였다 안 보였다, L(line)을 누르면 line 번호\n",
    "\n",
    "# jupyter notebook hotkey(단축키)\n",
    "# L : 라인번호 toggle\n",
    "# O : output창을 toggle\n",
    "# A : 위쪽 영역에 cell 삽입\n",
    "# B : 아래쪽 영역에 cell 삽입\n",
    "# D.D : 현재 cell을 삭제\n",
    "# Control + Enter : 현재 cell 실행\n",
    "# Alt + Enter : 현재 cell 실행, 아래쪽에 cell 삽입\n",
    "# Shift + Enter : 현재 cell 실행, 아래쪽 cell 선택\n",
    "# In [] 안에 숫자는 몇 번 수행을 시켰는지를 나타냄"
   ]
  },
  {
   "cell_type": "code",
   "execution_count": 6,
   "metadata": {},
   "outputs": [
    {
     "name": "stdout",
     "output_type": "stream",
     "text": [
      "100\n",
      "var2의 값은 :  200\n"
     ]
    }
   ],
   "source": [
    "## 변수를 생성하고 삭제해 보아요!\n",
    "\n",
    "var1 = 100      # ;은 생략이 가능.(뒤에 다른 코드가 없을 경우에)\n",
    "var2 = 200\n",
    "print(var1)     # output에 출력할 때 print()를 이용\n",
    "print(\"var2의 값은 : \", var2)    # 인자를 여러 개 줄 수 있어요.. 여러 개의 인자를 하나씩 출력해요!! (R의 cat과 비슷)\n",
    "# cell 단위로 실행, 맨 마지막에 있는 변수명만 output에 출력.\n",
    "\n",
    "del var2;      # var2를 메모리에서 삭제\n",
    "# print(\"var2의 값은 : \", var2)\n",
    "\n",
    "\n"
   ]
  }
 ],
 "metadata": {
  "kernelspec": {
   "display_name": "[CPU_ENV]",
   "language": "python",
   "name": "cpu_env"
  },
  "language_info": {
   "codemirror_mode": {
    "name": "ipython",
    "version": 3
   },
   "file_extension": ".py",
   "mimetype": "text/x-python",
   "name": "python",
   "nbconvert_exporter": "python",
   "pygments_lexer": "ipython3",
   "version": "3.6.9"
  }
 },
 "nbformat": 4,
 "nbformat_minor": 2
}
